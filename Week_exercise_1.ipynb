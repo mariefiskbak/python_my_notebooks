{
 "cells": [
  {
   "cell_type": "markdown",
   "id": "ada310cc",
   "metadata": {},
   "source": [
    "# Exercise\n",
    "## Part 1\n",
    "1. Create 5 list comprehensions to solve the following 5 problems:\n",
    "\n",
    "     A. Iterate a list of names to return a list of the names starting with H\n"
   ]
  },
  {
   "cell_type": "code",
   "execution_count": null,
   "id": "f23e1216",
   "metadata": {},
   "outputs": [],
   "source": []
  },
  {
   "cell_type": "markdown",
   "id": "1f844f23",
   "metadata": {},
   "source": [
    "\n",
    "     B. In one line create a list of the numbers 1-100 to the power of 3\n"
   ]
  },
  {
   "cell_type": "code",
   "execution_count": null,
   "id": "fff0fb96",
   "metadata": {},
   "outputs": [],
   "source": []
  },
  {
   "cell_type": "markdown",
   "id": "8e4af2a7",
   "metadata": {},
   "source": [
    "    C. In one line create a list of the numbers 1-100 to the power of 3\n",
    "    D. Iterate a list of names to create a list of tuples where the tuples first value is the length of the name and the second is the name\n",
    "    E. Iterate over each character in a string and get only those that are nummeric\n",
    "    F. Using only a list comprehension wrapped in set() get all possible combinations from throwing 2 dice (hint use 2 for loops in a single list comprehension). Result should look like: [2,3,4,5,6,7,8,...] or a more complex/accurate solution: [(1,1),(1,2)...] in a way that (1,2) is equal to (2,1).\n",
    "\n",
    "## Part 2\n",
    "2. Create 2 dictionary comprehensions to solve the following:\n",
    "\n",
    "    A. Iterate a list of names and create a dictionary where key is the name and value is the length of the name\n",
    "    \n",
    "    B. Iterate a list of numbers and create a dictionary with {key:value} being {number:squareroot_of_number}\n",
    "    \n",
    "\n",
    "3. Extra assignment (This one goes beyond what is covered in the course notebooks. So only do it if you want an extra challenge).\n",
    "\n",
    "- Progammatically using loops create a small program to produce a dictionary with all the 2 dice throw combinations as keys (eg: 2,3,4...etc) and their likelyhood in percent as values"
   ]
  },
  {
   "cell_type": "code",
   "execution_count": null,
   "id": "3a116b59",
   "metadata": {},
   "outputs": [],
   "source": []
  }
 ],
 "metadata": {
  "kernelspec": {
   "display_name": "Python 3 (ipykernel)",
   "language": "python",
   "name": "python3"
  },
  "language_info": {
   "codemirror_mode": {
    "name": "ipython",
    "version": 3
   },
   "file_extension": ".py",
   "mimetype": "text/x-python",
   "name": "python",
   "nbconvert_exporter": "python",
   "pygments_lexer": "ipython3",
   "version": "3.10.8"
  }
 },
 "nbformat": 4,
 "nbformat_minor": 5
}
